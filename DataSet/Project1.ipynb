{
 "cells": [
  {
   "cell_type": "code",
   "execution_count": 32,
   "metadata": {},
   "outputs": [],
   "source": [
    "import numpy as np\n",
    "import pandas as pd\n",
    "import matplotlib.pyplot as plt\n",
    "import itertools"
   ]
  },
  {
   "cell_type": "markdown",
   "metadata": {},
   "source": [
    "# 1. Data Clean and Basic Analysis #"
   ]
  },
  {
   "cell_type": "markdown",
   "metadata": {},
   "source": [
    "### 1.1 functions ###"
   ]
  },
  {
   "cell_type": "code",
   "execution_count": 72,
   "metadata": {},
   "outputs": [],
   "source": [
    "# plot function: distribution histogram\n",
    "def plot_distribution(wine_df, feature):\n",
    "    value = wine_df[feature]\n",
    "    plt.hist(value)\n",
    "    plt.xlabel(feature + ' values')\n",
    "    plt.ylabel('Frequency')\n",
    "    plt.title(feature)\n",
    "    plt.show()"
   ]
  },
  {
   "cell_type": "markdown",
   "metadata": {},
   "source": [
    "### 1.2 Wine data ###"
   ]
  },
  {
   "cell_type": "code",
   "execution_count": 104,
   "metadata": {},
   "outputs": [
    {
     "name": "stdout",
     "output_type": "stream",
     "text": [
      "<class 'pandas.core.frame.DataFrame'>\n",
      "RangeIndex: 1599 entries, 0 to 1598\n",
      "Data columns (total 12 columns):\n",
      "fixed acidity           1599 non-null float64\n",
      "volatile acidity        1599 non-null float64\n",
      "citric acid             1599 non-null float64\n",
      "residual sugar          1599 non-null float64\n",
      "chlorides               1599 non-null float64\n",
      "free sulfur dioxide     1599 non-null float64\n",
      "total sulfur dioxide    1599 non-null float64\n",
      "density                 1599 non-null float64\n",
      "pH                      1599 non-null float64\n",
      "sulphates               1599 non-null float64\n",
      "alcohol                 1599 non-null float64\n",
      "quality                 1599 non-null int64\n",
      "dtypes: float64(11), int64(1)\n",
      "memory usage: 150.0 KB\n",
      "None\n"
     ]
    }
   ],
   "source": [
    "wine_df = pd.read_csv('./winequality-red.csv', sep = ';')\n",
    "\n",
    "# Convert the quality rating into binary representation e.g. [6,7,8,9] -> 1, else -> 0\n",
    "def binaryConversionForQuality(dataframe, columnname):\n",
    "    for index, row in wine_df.iterrows():\n",
    "        if row['quality'] >= 6:\n",
    "            wine_df.at[index, columnname] = 1\n",
    "        else: \n",
    "            wine_df.at[index, columnname] = 0\n",
    "\n",
    "binaryConversionForQuality(wine_df, 'quality')\n",
    "# Set the maximum decimal place for the dataframe to be 5\n",
    "wine_df.loc[:,wine_df.columns!='quality'].astype(float).round(5) \n",
    "print(wine_df.info())"
   ]
  },
  {
   "cell_type": "code",
   "execution_count": 53,
   "metadata": {},
   "outputs": [
    {
     "data": {
      "text/plain": [
       "fixed acidity            8.319637\n",
       "volatile acidity         0.527821\n",
       "citric acid              0.270976\n",
       "residual sugar           2.538806\n",
       "chlorides                0.087467\n",
       "free sulfur dioxide     15.874922\n",
       "total sulfur dioxide    46.467792\n",
       "density                  0.996747\n",
       "pH                       3.311113\n",
       "sulphates                0.658149\n",
       "alcohol                 10.422983\n",
       "quality                  0.534709\n",
       "dtype: float64"
      ]
     },
     "execution_count": 53,
     "metadata": {},
     "output_type": "execute_result"
    }
   ],
   "source": [
    "#mean for all fretures \n",
    "wine_df.mean()"
   ]
  },
  {
   "cell_type": "code",
   "execution_count": 54,
   "metadata": {},
   "outputs": [
    {
     "ename": "TypeError",
     "evalue": "zip argument #1 must support iteration",
     "output_type": "error",
     "traceback": [
      "\u001b[0;31m---------------------------------------------------------------------------\u001b[0m",
      "\u001b[0;31mTypeError\u001b[0m                                 Traceback (most recent call last)",
      "\u001b[0;32m<ipython-input-54-43a29b8418bb>\u001b[0m in \u001b[0;36m<module>\u001b[0;34m\u001b[0m\n\u001b[1;32m      2\u001b[0m \u001b[0mfig\u001b[0m\u001b[0;34m=\u001b[0m\u001b[0mplt\u001b[0m\u001b[0;34m.\u001b[0m\u001b[0mfigure\u001b[0m\u001b[0;34m(\u001b[0m\u001b[0mfigsize\u001b[0m\u001b[0;34m=\u001b[0m\u001b[0;34m(\u001b[0m\u001b[0;36m18\u001b[0m\u001b[0;34m,\u001b[0m \u001b[0;36m15\u001b[0m\u001b[0;34m)\u001b[0m\u001b[0;34m)\u001b[0m\u001b[0;34m\u001b[0m\u001b[0;34m\u001b[0m\u001b[0m\n\u001b[1;32m      3\u001b[0m \u001b[0mcount\u001b[0m \u001b[0;34m=\u001b[0m \u001b[0;36m1\u001b[0m\u001b[0;34m\u001b[0m\u001b[0;34m\u001b[0m\u001b[0m\n\u001b[0;32m----> 4\u001b[0;31m \u001b[0;32mfor\u001b[0m \u001b[0mi\u001b[0m\u001b[0;34m,\u001b[0m \u001b[0mcolumn\u001b[0m \u001b[0;32min\u001b[0m \u001b[0mzip\u001b[0m\u001b[0;34m(\u001b[0m\u001b[0mindex\u001b[0m\u001b[0;34m,\u001b[0m \u001b[0mwine_df\u001b[0m\u001b[0;34m.\u001b[0m\u001b[0mcolumns\u001b[0m\u001b[0;34m)\u001b[0m\u001b[0;34m:\u001b[0m\u001b[0;34m\u001b[0m\u001b[0;34m\u001b[0m\u001b[0m\n\u001b[0m\u001b[1;32m      5\u001b[0m     \u001b[0mvalue\u001b[0m \u001b[0;34m=\u001b[0m \u001b[0mwine_df\u001b[0m\u001b[0;34m[\u001b[0m\u001b[0mcolumn\u001b[0m\u001b[0;34m]\u001b[0m\u001b[0;34m\u001b[0m\u001b[0;34m\u001b[0m\u001b[0m\n\u001b[1;32m      6\u001b[0m     \u001b[0mplt\u001b[0m\u001b[0;34m.\u001b[0m\u001b[0msubplot\u001b[0m\u001b[0;34m(\u001b[0m\u001b[0;36m4\u001b[0m\u001b[0;34m,\u001b[0m\u001b[0;36m4\u001b[0m\u001b[0;34m,\u001b[0m\u001b[0mi\u001b[0m\u001b[0;34m)\u001b[0m\u001b[0;34m\u001b[0m\u001b[0;34m\u001b[0m\u001b[0m\n",
      "\u001b[0;31mTypeError\u001b[0m: zip argument #1 must support iteration"
     ]
    },
    {
     "data": {
      "text/plain": [
       "<Figure size 1296x1080 with 0 Axes>"
      ]
     },
     "metadata": {},
     "output_type": "display_data"
    }
   ],
   "source": [
    "# plot distribution of all features\n",
    "fig=plt.figure(figsize=(18, 15))\n",
    "count = 1\n",
    "for i, column in zip(index, wine_df.columns):\n",
    "    value = wine_df[column]\n",
    "    plt.subplot(4,4,i)\n",
    "    plt.hist(value, bins = 50)\n",
    "    plt.title(column)\n",
    "#plt.show()\n",
    "fig.savefig('../Report/img/wine_distribution.png',bbox_inches='tight')"
   ]
  },
  {
   "cell_type": "code",
   "execution_count": 55,
   "metadata": {},
   "outputs": [
    {
     "name": "stdout",
     "output_type": "stream",
     "text": [
      "<class 'pandas.core.frame.DataFrame'>\n",
      "RangeIndex: 1599 entries, 0 to 1598\n",
      "Data columns (total 12 columns):\n",
      "fixed acidity           1599 non-null float64\n",
      "volatile acidity        1599 non-null float64\n",
      "citric acid             1599 non-null float64\n",
      "residual sugar          1599 non-null float64\n",
      "chlorides               1599 non-null float64\n",
      "free sulfur dioxide     1599 non-null float64\n",
      "total sulfur dioxide    1599 non-null float64\n",
      "density                 1599 non-null float64\n",
      "pH                      1599 non-null float64\n",
      "sulphates               1599 non-null float64\n",
      "alcohol                 1599 non-null float64\n",
      "quality                 1599 non-null float64\n",
      "dtypes: float64(12)\n",
      "memory usage: 150.0 KB\n",
      "None\n",
      "<class 'pandas.core.frame.DataFrame'>\n",
      "RangeIndex: 1599 entries, 0 to 1598\n",
      "Data columns (total 12 columns):\n",
      "fixed acidity           1599 non-null float64\n",
      "volatile acidity        1599 non-null float64\n",
      "citric acid             1599 non-null float64\n",
      "residual sugar          1599 non-null float64\n",
      "chlorides               1599 non-null float64\n",
      "free sulfur dioxide     1599 non-null float64\n",
      "total sulfur dioxide    1599 non-null float64\n",
      "density                 1599 non-null float64\n",
      "pH                      1599 non-null float64\n",
      "sulphates               1599 non-null float64\n",
      "alcohol                 1599 non-null float64\n",
      "quality                 1599 non-null float64\n",
      "dtypes: float64(12)\n",
      "memory usage: 150.0 KB\n",
      "None\n"
     ]
    }
   ],
   "source": [
    "normalized_wine_df = (wine_df-wine_df.min())/(wine_df.max()-wine_df.min())\n",
    "#print(wine_df)\n",
    "print(normalized_wine_df.info())\n",
    "\n",
    "standardized_wine_df = (wine_df-wine_df.mean())/(wine_df.std())\n",
    "#print(standardized_wine_df)\n",
    "print(standardized_wine_df.info())"
   ]
  },
  {
   "cell_type": "code",
   "execution_count": 56,
   "metadata": {},
   "outputs": [
    {
     "data": {
      "image/png": "[encoded data removed]",
      "text/plain": [
       "<Figure size 720x720 with 2 Axes>"
      ]
     },
     "metadata": {
      "needs_background": "light"
     },
     "output_type": "display_data"
    }
   ],
   "source": [
    "from scipy import stats\n",
    "\n",
    "corr = wine_df.corr(method ='pearson')\n",
    "fig = plt.figure(figsize=(10,10))\n",
    "ax = fig.add_subplot(111)\n",
    "cax = ax.matshow(corr,cmap='coolwarm', vmin=-1, vmax=1)\n",
    "fig.colorbar(cax)\n",
    "ticks = np.arange(0,len(wine_df.columns),1)\n",
    "ax.set_xticks(ticks)\n",
    "plt.xticks(rotation=90)\n",
    "ax.set_yticks(ticks)\n",
    "ax.set_xticklabels(wine_df.columns)\n",
    "ax.set_yticklabels(wine_df.columns)\n",
    "plt.show()\n",
    "fig.savefig('../Report/img/wine_correlation.png',bbox_inches='tight')"
   ]
  },
  {
   "cell_type": "code",
   "execution_count": null,
   "metadata": {},
   "outputs": [],
   "source": []
  },
  {
   "cell_type": "markdown",
   "metadata": {},
   "source": [
    "### 1.3 Cancer data ###"
   ]
  },
  {
   "cell_type": "code",
   "execution_count": 57,
   "metadata": {},
   "outputs": [],
   "source": [
    "cancer_df = pd.read_csv('./breast-cancer-wisconsin.data', header=None)\n",
    "cancer_df.columns =['Patient ID','Clump Thickness','Uniformity of Cell Size','Uniformity of Cell Shape','Marginal adhesion',\n",
    "                 'Single Epithelial Cell Size','Bare Nuclei','Bland Chromatin','Normal Nucleoli','Mitoses','Class']"
   ]
  },
  {
   "cell_type": "code",
   "execution_count": 58,
   "metadata": {},
   "outputs": [],
   "source": [
    "# remove missing data row\n",
    "abandonList =[]\n",
    "for patient in range(0,698):\n",
    "    for feature in cancer_df.columns:\n",
    "        if cancer_df.loc[patient][feature] == '?':\n",
    "#             if (isinstance(df.loc[patient][feature], int) == \"false\"): #checking if there is any non-int data\n",
    "#                 print (\"fuck \"+ df.loc[patient][feature],int)\n",
    "            abandonList.append(patient)\n",
    "cancer_df = cancer_df.drop(abandonList)"
   ]
  },
  {
   "cell_type": "code",
   "execution_count": 59,
   "metadata": {},
   "outputs": [],
   "source": [
    "cancer_df['Bare Nuclei'] = cancer_df['Bare Nuclei'].astype(int)"
   ]
  },
  {
   "cell_type": "code",
   "execution_count": 60,
   "metadata": {},
   "outputs": [],
   "source": [
    "# calss 2 set to 0; class 4 set to 1\n",
    "columnname = 'Class'\n",
    "for index, row in cancer_df.iterrows():\n",
    "    if row[columnname] == 2:\n",
    "        cancer_df.at[index, columnname] = 0\n",
    "    if row[columnname] == 4:\n",
    "        cancer_df.at[index, columnname] = 1"
   ]
  },
  {
   "cell_type": "code",
   "execution_count": 61,
   "metadata": {
    "scrolled": true
   },
   "outputs": [
    {
     "name": "stdout",
     "output_type": "stream",
     "text": [
      "<class 'pandas.core.frame.DataFrame'>\n",
      "Int64Index: 683 entries, 0 to 698\n",
      "Data columns (total 11 columns):\n",
      "Patient ID                     683 non-null int64\n",
      "Clump Thickness                683 non-null int64\n",
      "Uniformity of Cell Size        683 non-null int64\n",
      "Uniformity of Cell Shape       683 non-null int64\n",
      "Marginal adhesion              683 non-null int64\n",
      "Single Epithelial Cell Size    683 non-null int64\n",
      "Bare Nuclei                    683 non-null int64\n",
      "Bland Chromatin                683 non-null int64\n",
      "Normal Nucleoli                683 non-null int64\n",
      "Mitoses                        683 non-null int64\n",
      "Class                          683 non-null int64\n",
      "dtypes: int64(11)\n",
      "memory usage: 84.0 KB\n",
      "None\n"
     ]
    }
   ],
   "source": [
    "print(cancer_df.info())"
   ]
  },
  {
   "cell_type": "code",
   "execution_count": 62,
   "metadata": {},
   "outputs": [
    {
     "data": {
      "text/plain": [
       "Patient ID                     1.076720e+06\n",
       "Clump Thickness                4.442167e+00\n",
       "Uniformity of Cell Size        3.150805e+00\n",
       "Uniformity of Cell Shape       3.215227e+00\n",
       "Marginal adhesion              2.830161e+00\n",
       "Single Epithelial Cell Size    3.234261e+00\n",
       "Bare Nuclei                    3.544656e+00\n",
       "Bland Chromatin                3.445095e+00\n",
       "Normal Nucleoli                2.869693e+00\n",
       "Mitoses                        1.603221e+00\n",
       "Class                          3.499268e-01\n",
       "dtype: float64"
      ]
     },
     "execution_count": 62,
     "metadata": {},
     "output_type": "execute_result"
    }
   ],
   "source": [
    "#mean for all fretures \n",
    "cancer_df.mean()"
   ]
  },
  {
   "cell_type": "code",
   "execution_count": 63,
   "metadata": {},
   "outputs": [],
   "source": [
    "# cancer data to matrix\n",
    "# cancer_x = cancer_df.loc[:,cancer_df.columns!='Patient ID']\n",
    "# cancer_x = cancer_x.loc[:,cancer_df.columns!='Class']\n",
    "# cancer_x = np.array (cancer_x)\n",
    "# cancer_y = cancer_df[\"Class\"]\n",
    "# cancer_y = np.array([[yi] for yi in cancer_y])\n",
    "\n",
    "# print(cancer_x.shape)\n",
    "# print(cancer_y.shape)\n",
    "cancer_df = cancer_df.loc[:,cancer_df.columns!='Patient ID']"
   ]
  },
  {
   "cell_type": "code",
   "execution_count": 64,
   "metadata": {},
   "outputs": [
    {
     "data": {
      "image/png": "[encoded data removed]",
      "text/plain": [
       "<Figure size 720x720 with 2 Axes>"
      ]
     },
     "metadata": {
      "needs_background": "light"
     },
     "output_type": "display_data"
    }
   ],
   "source": [
    "from scipy import stats\n",
    "\n",
    "corr = cancer_df.corr(method ='pearson')\n",
    "fig = plt.figure(figsize=(10,10))\n",
    "ax = fig.add_subplot(111)\n",
    "cax = ax.matshow(corr,cmap='coolwarm', vmin=-1, vmax=1)\n",
    "fig.colorbar(cax)\n",
    "ticks = np.arange(0,len(cancer_df.columns),1)\n",
    "ax.set_xticks(ticks)\n",
    "plt.xticks(rotation=90)\n",
    "ax.set_yticks(ticks)\n",
    "ax.set_xticklabels(cancer_df.columns)\n",
    "ax.set_yticklabels(cancer_df.columns)\n",
    "plt.show()\n",
    "fig.savefig('../Report/img/cancer_correlation.png',bbox_inches='tight')"
   ]
  },
  {
   "cell_type": "markdown",
   "metadata": {},
   "source": [
    "# Part 2#"
   ]
  },
  {
   "cell_type": "markdown",
   "metadata": {},
   "source": [
    "### 2.1 Logistic Regression ###"
   ]
  },
  {
   "cell_type": "code",
   "execution_count": 65,
   "metadata": {},
   "outputs": [],
   "source": [
    "import math\n",
    "\n",
    "class LogisticRegression(object):\n",
    "    \n",
    "    def __init__(self):\n",
    "        pass\n",
    "    \n",
    "    def logictic_function (self, a):\n",
    "        try:\n",
    "            expa = math.exp(-a)\n",
    "        except OverflowError:\n",
    "            expa = float('inf')\n",
    "        sigma = 1 / (1+expa)\n",
    "        return sigma\n",
    "    \n",
    "    def fit (self, x, y, rate, iteration):\n",
    "        i = 1\n",
    "        w = np.zeros((len(x[0]),1))\n",
    "        w_next = np.zeros((len(x[0]),1))\n",
    "        \n",
    "        \n",
    "        while i<iteration: \n",
    "            w = w_next\n",
    "            \n",
    "            derivative = np.zeros((len(x[0]),1))\n",
    "            for j in range (0, len(x)):\n",
    "                xj = np.array([[element] for element in x[j]])\n",
    "                sigma = self.logictic_function ( np.matmul(np.transpose(w), xj) )\n",
    "                derivative = np.add (derivative,  np.array( [[element] for element in xj @ (y[j] - sigma)])  )\n",
    "            w_next = np.add(w, rate(i) * derivative)\n",
    "            \n",
    "            i = i + 1\n",
    "            \n",
    "        self.w = w_next\n",
    "        \n",
    "    \n",
    "    def predict (self, x):\n",
    "        return np.array(list(map(lambda xi: [1] if np.sum([xi] @ self.w) > 0 else [0], x)))"
   ]
  },
  {
   "cell_type": "code",
   "execution_count": 20,
   "metadata": {},
   "outputs": [],
   "source": [
    "# LRModel = LogisticRegression()\n",
    "# LRModel.fit (cancer_x, cancer_y, lambda n: 0.001/(n+1), 2)\n",
    "# LRModel.predict(cancer_x)\n"
   ]
  },
  {
   "cell_type": "code",
   "execution_count": null,
   "metadata": {},
   "outputs": [],
   "source": []
  },
  {
   "cell_type": "markdown",
   "metadata": {},
   "source": [
    "### 2.2 LDAClassifier ###"
   ]
  },
  {
   "cell_type": "code",
   "execution_count": 66,
   "metadata": {},
   "outputs": [],
   "source": [
    "class LDAClassifier(object):\n",
    "    \n",
    "    def __init__(self, psudo_inv=False):\n",
    "        \"\"\"\n",
    "        Provide an option of psudo inverse just in case not invertable\n",
    "        \"\"\"\n",
    "        self.psudo_inv = psudo_inv \n",
    "\n",
    "    def fit(self, x, y):\n",
    "        \"\"\"\n",
    "        Input dim of x is number of case x number of features\n",
    "                     y is number of case x 1\n",
    "        Output       None\n",
    "        \"\"\"\n",
    "        self.n = np.array(y).size\n",
    "        self.n1 = np.sum(y)\n",
    "        self.n0 = self.n - self.n1\n",
    "        self.p0 = self.n0 / self.n\n",
    "        self.p1 = self.n1 / self.n\n",
    "        # This is, however, transpose of u0 and u1, since its shape is (m,)\n",
    "        self.u0 = np.sum([xi for xi, yi \n",
    "                             in list(zip(x, y)) \n",
    "                             if yi == 0], axis=0) / self.n0\n",
    "        self.u1 = np.sum([xi for xi, yi \n",
    "                             in list(zip(x, y)) \n",
    "                             if yi == 1], axis=0) / self.n1\n",
    "        # since x supposed to be a column vector of rv x1 to xm\n",
    "        # this (x - ui)(x - ui)T is actually computed with transpose of\n",
    "        # x and ui (x passed as ncase x nfeature (n x m))\n",
    "        # so the computation becomes (xT - uiT)T(xT - uiT) \n",
    "        xxT = lambda v: np.transpose(v) @ np.array(v)\n",
    "        # test: \n",
    "        # print(np.sum([xxT([x[0] - self.u0]), \\\n",
    "        #               xxT([x[3] - self.u0])], axis=0))\n",
    "        self.sigma = (np.sum([xxT(np.array([xi - self.u0]))\n",
    "                              for xi, yi \n",
    "                              in list(zip(x, y))\n",
    "                              if yi == 0], axis=0) + \n",
    "                      np.sum([xxT(np.array([xi - self.u1]))\n",
    "                              for xi, yi \n",
    "                              in list(zip(x, y))\n",
    "                              if yi == 1], axis=0)) / (self.n - 2)\n",
    "        self.sigma_inv = np.linalg.pinv(self.sigma) \\\n",
    "                         if self.psudo_inv \\\n",
    "                         else np.linalg.inv(self.sigma)\n",
    "        # test: \n",
    "        # print(np.sum(np.array([self.u1]) @ \n",
    "        #              self.sigma_inv @ \n",
    "        #              np.transpose([self.u1])))\n",
    "        self.w0 = np.log(self.p1 / self.p0) - \\\n",
    "                  (1 / 2) * np.sum(np.array([self.u1]) @ \\\n",
    "                                   self.sigma_inv @ \\\n",
    "                                   np.transpose([self.u1])) + \\\n",
    "                  (1 / 2) * np.sum(np.array([self.u0]) @ \\\n",
    "                                   self.sigma_inv @ \\\n",
    "                                   np.transpose([self.u0]))\n",
    "        # test: \n",
    "        # print(self.sigma_inv @ np.transpose([self.u1 - self.u0]))\n",
    "        self.w = self.sigma_inv @ \\\n",
    "                 np.transpose([self.u1 - self.u0])\n",
    "\n",
    "    def predict(self, x):\n",
    "        return np.array(list(map(lambda xi: [1] \n",
    "                                 if self.w0 + np.sum([xi] @ self.w) > 0 \n",
    "                                 else [0], x)))"
   ]
  },
  {
   "cell_type": "code",
   "execution_count": 22,
   "metadata": {},
   "outputs": [],
   "source": [
    "#LDAModel = LDAClassifier()\n",
    "#LDAModel.fit (cancer_x, cancer_y)"
   ]
  },
  {
   "cell_type": "code",
   "execution_count": 23,
   "metadata": {},
   "outputs": [],
   "source": [
    "#LDAModel.predict(wine_x)"
   ]
  },
  {
   "cell_type": "code",
   "execution_count": null,
   "metadata": {},
   "outputs": [],
   "source": []
  },
  {
   "cell_type": "markdown",
   "metadata": {},
   "source": [
    "### 2.3 accuracy ###"
   ]
  },
  {
   "cell_type": "code",
   "execution_count": 67,
   "metadata": {},
   "outputs": [],
   "source": [
    "def evaluate_acc (actual_y, predicted_y):\n",
    "    correct_count = 0\n",
    "    sample_number = len (actual_y)\n",
    "    for i in range(0, sample_number):\n",
    "        if (actual_y[i] == predicted_y[i]):\n",
    "            correct_count = correct_count + 1\n",
    "    accuracy = correct_count / sample_number\n",
    "    return accuracy;"
   ]
  },
  {
   "cell_type": "code",
   "execution_count": 25,
   "metadata": {},
   "outputs": [],
   "source": [
    "#evaluate_acc(wine_y, LDAModel.predict(wine_x))"
   ]
  },
  {
   "cell_type": "code",
   "execution_count": null,
   "metadata": {},
   "outputs": [],
   "source": []
  },
  {
   "cell_type": "markdown",
   "metadata": {},
   "source": [
    "### 2.4 k fold ###"
   ]
  },
  {
   "cell_type": "code",
   "execution_count": 70,
   "metadata": {},
   "outputs": [],
   "source": [
    "# split data set into k-fold\n",
    "def k_fold_split(df, k):\n",
    "    # randomly shuffle the dataframe\n",
    "    df = df.reindex(np.random.permutation(df.index))\n",
    "    data = np.array_split(df, k)\n",
    "    return data\n",
    "\n",
    "# perform logistic regression training and validation given the training_set, validation_set\n",
    "def validation_LRegression(training_set, validation_set, y, iteration):\n",
    "    training_set_x = np.array(training_set.loc[:,training_set.columns!=y])\n",
    "    training_set_y = np.array([[yi] for yi in training_set[y]])\n",
    "    validation_set_x = np.array(validation_set.loc[:,validation_set.columns!=y])\n",
    "    validation_set_y = np.array([[yi] for yi in validation_set[y]])\n",
    "    LRModel = LogisticRegression()\n",
    "    LRModel.fit(np.array(training_set_x),np.array(training_set_y),lambda n: 0.0034/(n+1), iteration)\n",
    "    print('---------------------Logistic Regression Training set accuracy---------------------')\n",
    "    print('Training set data: ', len(training_set.index))\n",
    "    prediction = LRModel.predict(validation_set_x)\n",
    "    validation_accuracy = evaluate_acc(prediction, validation_set_y)\n",
    "    print('---------------------Logistic Regression Validation set accuracy-------------------')\n",
    "    print('Validation set data: ', len(validation_set.index))\n",
    "    print('Validation set accuracy: ', validation_accuracy)\n",
    "    return validation_accuracy\n",
    "\n",
    "# perform logistic regression training and validation given the training_set, validation_set\n",
    "def validation_LDA(training_set, validation_set, y):\n",
    "    training_set_x = np.array(training_set.loc[:,training_set.columns!=y])\n",
    "    training_set_y = np.array([[yi] for yi in training_set[y]])\n",
    "    validation_set_x = np.array(validation_set.loc[:,validation_set.columns!=y])\n",
    "    validation_set_y = np.array([[yi] for yi in validation_set[y]])\n",
    "    LDAModel = LDAClassifier()\n",
    "    LDAModel.fit(np.array(training_set_x),np.array(training_set_y))\n",
    "    print('----------------------------LDA Training set accuracy------------------------------')\n",
    "    print('Training set data: ', len(training_set.index))\n",
    "    prediction = LDAModel.predict(validation_set_x)\n",
    "    validation_accuracy = evaluate_acc(prediction, validation_set_y)\n",
    "    print('----------------------------LDA Validation set accuracy----------------------------')\n",
    "    print('Validation set data: ', len(validation_set.index))\n",
    "    print('Validation set accuracy: ', validation_accuracy)\n",
    "    return validation_accuracy\n",
    "    \n",
    "def k_fold_validation_LRegression(df, y, k, iteration):\n",
    "    spliteddf = k_fold_split(df, k)\n",
    "    accuracy = 0.\n",
    "    for i in range(0,k):\n",
    "        validation_set = spliteddf[i]\n",
    "        training_sets = spliteddf.copy()\n",
    "        del training_sets[i]\n",
    "        training_set = pd.concat(training_sets)\n",
    "        accuracy += validation_LRegression(training_set, validation_set, y, iteration)\n",
    "    accuracy /= k\n",
    "    print('----------------------------Logistic Regression %d-fold Validation-----------------'%(k))\n",
    "    print('Fold: ', k)\n",
    "    print('Accuracy: ', accuracy)\n",
    "    print('Error rate: ', 1-accuracy)\n",
    "        \n",
    "def k_fold_validation_LDA(df, y, k):\n",
    "    spliteddf = k_fold_split(df, k)\n",
    "    accuracy = 0.\n",
    "    for i in range(0,k):\n",
    "        validation_set = spliteddf[i]\n",
    "        training_sets = spliteddf.copy()\n",
    "        del training_sets[i]\n",
    "        training_set = pd.concat(training_sets)\n",
    "        accuracy += validation_LDA(training_set, validation_set, y)\n",
    "    accuracy /= k\n",
    "    print('----------------------------LDA %d-fold Validation---------------------------------'%(k))\n",
    "    print('Fold: ', k)\n",
    "    print('Accuracy: ', accuracy)\n",
    "    print('Error rate: ', 1-accuracy)"
   ]
  },
  {
   "cell_type": "code",
   "execution_count": 105,
   "metadata": {},
   "outputs": [
    {
     "name": "stdout",
     "output_type": "stream",
     "text": [
      "Index(['fixed acidity', 'volatile acidity', 'citric acid', 'residual sugar',\n",
      "       'chlorides', 'free sulfur dioxide', 'total sulfur dioxide', 'density',\n",
      "       'pH', 'sulphates', 'alcohol', 'quality'],\n",
      "      dtype='object')\n"
     ]
    }
   ],
   "source": [
    "print(wine_df.columns)"
   ]
  },
  {
   "cell_type": "code",
   "execution_count": 106,
   "metadata": {},
   "outputs": [
    {
     "name": "stdout",
     "output_type": "stream",
     "text": [
      "---------------------Logistic Regression Training set accuracy---------------------\n",
      "Training set data:  1279\n",
      "---------------------Logistic Regression Validation set accuracy-------------------\n",
      "Validation set data:  320\n",
      "Validation set accuracy:  0.540625\n",
      "---------------------Logistic Regression Training set accuracy---------------------\n",
      "Training set data:  1279\n",
      "---------------------Logistic Regression Validation set accuracy-------------------\n",
      "Validation set data:  320\n",
      "Validation set accuracy:  0.56875\n",
      "---------------------Logistic Regression Training set accuracy---------------------\n",
      "Training set data:  1279\n",
      "---------------------Logistic Regression Validation set accuracy-------------------\n",
      "Validation set data:  320\n",
      "Validation set accuracy:  0.54375\n",
      "---------------------Logistic Regression Training set accuracy---------------------\n",
      "Training set data:  1279\n",
      "---------------------Logistic Regression Validation set accuracy-------------------\n",
      "Validation set data:  320\n",
      "Validation set accuracy:  0.51875\n",
      "---------------------Logistic Regression Training set accuracy---------------------\n",
      "Training set data:  1280\n",
      "---------------------Logistic Regression Validation set accuracy-------------------\n",
      "Validation set data:  319\n",
      "Validation set accuracy:  0.5736677115987461\n",
      "----------------------------Logistic Regression 5-fold Validation-----------------\n",
      "Fold:  5\n",
      "Accuracy:  0.5491085423197493\n",
      "Error rate:  0.45089145768025074\n"
     ]
    }
   ],
   "source": [
    "#wine_df = wine_df.loc[:,wine_df.columns!='fixed acidity']\n",
    "\n",
    "wine_df['free sulfur dioxide']= wine_df['free sulfur dioxide']*wine_df['total sulfur dioxide']\n",
    "wine_df.drop(columns=['total sulfur dioxide'], axis=1, inplace=True)\n",
    "k_fold_validation_LRegression(wine_df, 'quality', 5, 1500)\n",
    "#k_fold_validation_LRegression(cancer_df, 'Class', 5, 1000)\n"
   ]
  },
  {
   "cell_type": "code",
   "execution_count": null,
   "metadata": {},
   "outputs": [],
   "source": [
    "k_fold_validation_LDA(wine_df, 'quality', 5)\n",
    "#k_fold_validation_LDA(cancer_df, 'Class', 5)"
   ]
  },
  {
   "cell_type": "code",
   "execution_count": null,
   "metadata": {},
   "outputs": [],
   "source": []
  },
  {
   "cell_type": "code",
   "execution_count": null,
   "metadata": {},
   "outputs": [],
   "source": []
  }
 ],
 "metadata": {
  "kernelspec": {
   "display_name": "Python 3",
   "language": "python",
   "name": "python3"
  },
  "language_info": {
   "codemirror_mode": {
    "name": "ipython",
    "version": 3
   },
   "file_extension": ".py",
   "mimetype": "text/x-python",
   "name": "python",
   "nbconvert_exporter": "python",
   "pygments_lexer": "ipython3",
   "version": "3.7.1"
  }
 },
 "nbformat": 4,
 "nbformat_minor": 2
}
