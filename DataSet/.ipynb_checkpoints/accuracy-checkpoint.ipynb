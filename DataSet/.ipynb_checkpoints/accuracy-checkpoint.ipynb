{
 "cells": [
  {
   "cell_type": "code",
   "execution_count": 5,
   "metadata": {},
   "outputs": [],
   "source": [
    "import numpy as np"
   ]
  },
  {
   "cell_type": "code",
   "execution_count": 6,
   "metadata": {},
   "outputs": [],
   "source": [
    "def accuracy(y, predictedY):\n",
    "    count =0;\n",
    "    arrayLen = len(y);\n",
    "    for i in range(0,arrayLen):\n",
    "        print(y[i]==predictedY[i]);\n",
    "        if(y[i]==predictedY[i]):\n",
    "            count=count +1;\n",
    "    print(count)\n",
    "    accuracy = count / arrayLen;\n",
    "    return accuracy;"
   ]
  },
  {
   "cell_type": "code",
   "execution_count": 23,
   "metadata": {},
   "outputs": [],
   "source": [
    "def f1Score(y, predictedY,positiveOutcome, negativeOutcome):\n",
    "    arrayLen = len(y);\n",
    "    countPositive = predictedY.count(positiveOutcome); \n",
    "    countTruePositive = 0;\n",
    "    countFalseNegative =0;\n",
    "\n",
    "    for i in range(0,arrayLen):\n",
    "        if(y[i]==positiveOutcome and predictedY[i] ==positiveOutcome):\n",
    "            countTruePositive= countTruePositive+1;\n",
    "    \n",
    "    for i in range(0,arrayLen):\n",
    "        if(y[i]!=predictedY[i] and predictedY[i]==negativeOutcome):\n",
    "            countFalseNegative = countFalseNegative+1;\n",
    "    \n",
    "    #calculate recall(# TP/TP+FN)\n",
    "    recall = countTruePositive/(countTruePositive+countFalseNegative);\n",
    "          \n",
    "    #calculate precision (TP/(TP+FP))\n",
    "    precision = countTruePositive/countPositive; \n",
    "    \n",
    "    #calculate f1 score\n",
    "    f1Score = (2*precision*recall)/(precision+recall)\n",
    "    return f1Score;\n",
    "    "
   ]
  },
  {
   "cell_type": "code",
   "execution_count": 24,
   "metadata": {},
   "outputs": [
    {
     "name": "stdout",
     "output_type": "stream",
     "text": [
      "0.5714285714285715\n"
     ]
    }
   ],
   "source": [
    "y=[1,0,0,1,1,1] #real \n",
    "y1=[1,1,0,1,0,0] #predicted\n",
    "\n",
    "print(f1Score(y,y1,1,0));"
   ]
  },
  {
   "cell_type": "code",
   "execution_count": null,
   "metadata": {},
   "outputs": [],
   "source": []
  },
  {
   "cell_type": "code",
   "execution_count": null,
   "metadata": {},
   "outputs": [],
   "source": []
  }
 ],
 "metadata": {
  "kernelspec": {
   "display_name": "Python 3",
   "language": "python",
   "name": "python3"
  },
  "language_info": {
   "codemirror_mode": {
    "name": "ipython",
    "version": 3
   },
   "file_extension": ".py",
   "mimetype": "text/x-python",
   "name": "python",
   "nbconvert_exporter": "python",
   "pygments_lexer": "ipython3",
   "version": "3.7.0"
  }
 },
 "nbformat": 4,
 "nbformat_minor": 2
}
