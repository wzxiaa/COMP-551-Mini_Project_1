{
 "cells": [
  {
   "cell_type": "code",
   "execution_count": 5,
   "metadata": {},
   "outputs": [],
   "source": [
    "import numpy as np"
   ]
  },
  {
   "cell_type": "code",
   "execution_count": 18,
   "metadata": {},
   "outputs": [],
   "source": [
    "def accuracy(y, predictedY):\n",
    "    count =0;\n",
    "    arrayLen = len(y);\n",
    "    for i in range(0,arrayLen):\n",
    "        print(y[i]==predictedY[i]);\n",
    "        if(y[i]==predictedY[i]):\n",
    "            count=count +1;\n",
    "    print(count)\n",
    "    accuracy = count / arrayLen;\n",
    "    return accuracy;"
   ]
  },
  {
   "cell_type": "code",
   "execution_count": 20,
   "metadata": {},
   "outputs": [
    {
     "name": "stdout",
     "output_type": "stream",
     "text": [
      "True\n",
      "False\n",
      "True\n",
      "True\n",
      "False\n",
      "False\n",
      "3\n",
      "0.5\n"
     ]
    }
   ],
   "source": [
    "y=[1,0,0,1,1,1]\n",
    "y1=[1,1,0,1,0,0]\n",
    "\n",
    "print(accuracy(y,y1))"
   ]
  },
  {
   "cell_type": "code",
   "execution_count": null,
   "metadata": {},
   "outputs": [],
   "source": []
  }
 ],
 "metadata": {
  "kernelspec": {
   "display_name": "Python 3",
   "language": "python",
   "name": "python3"
  },
  "language_info": {
   "codemirror_mode": {
    "name": "ipython",
    "version": 3
   },
   "file_extension": ".py",
   "mimetype": "text/x-python",
   "name": "python",
   "nbconvert_exporter": "python",
   "pygments_lexer": "ipython3",
   "version": "3.7.1"
  }
 },
 "nbformat": 4,
 "nbformat_minor": 2
}
