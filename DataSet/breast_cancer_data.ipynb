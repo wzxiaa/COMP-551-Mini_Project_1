{
 "cells": [
  {
   "cell_type": "code",
   "execution_count": 3,
   "metadata": {},
   "outputs": [],
   "source": [
    "import pandas as pandas\n",
    "import numpy as np\n",
    "import matplotlib.pyplot as plt\n",
    "import random"
   ]
  },
  {
   "cell_type": "code",
   "execution_count": 4,
   "metadata": {},
   "outputs": [],
   "source": [
    "df = pandas.read_csv('./breast-cancer-wisconsin.data', header=None)"
   ]
  },
  {
   "cell_type": "code",
   "execution_count": 13,
   "metadata": {},
   "outputs": [],
   "source": [
    "df.columns =['Patient ID','Clump Thickness','Uniformity of Cell Size','Uniformity of Cell Shape','Marginal adhesion',\n",
    "                 'Single Epithelial Cell Size','Bare Nuclei','Bland Chromatin','Normal Nucleoli','Mitoses','Class']\n",
    "# print(df.loc[698]['Class'])\n",
    "abandonList =[]\n",
    "for patient in range(0,698):\n",
    "    for feature in df.columns:\n",
    "        if df.loc[patient][feature] == '?':\n",
    "            if (isinstance(df.loc[patient][feature], int) == \"false\"): #checking if there is any non-int data\n",
    "                print (\"fuck \"+ df.loc[patient][feature],int)\n",
    "            abandonList.append(patient)\n",
    "\n",
    "newdf = df.drop(abandonList)"
   ]
  },
  {
   "cell_type": "code",
   "execution_count": 127,
   "metadata": {},
   "outputs": [],
   "source": [
    "outputData = newdf.values   #convert pandas to numpy naming outputData"
   ]
  },
  {
   "cell_type": "code",
   "execution_count": 128,
   "metadata": {},
   "outputs": [],
   "source": [
    "export_csv = newdf.to_csv ('./breast-cancer-wisconsin-cleaned.csv', index = None, header=True) "
   ]
  },
  {
   "cell_type": "code",
   "execution_count": 142,
   "metadata": {},
   "outputs": [],
   "source": [
    "def feature_dict(featureName):\n",
    "    my_list = newdf[featureName].values\n",
    "    # print(my_list)\n",
    "    unique, counts = numpy.unique(my_list, return_counts=True)\n",
    "    return dict(zip(unique, counts))\n",
    "\n",
    "value = feature_dict(\"Clump Thickness\")\n",
    "# print(value)\n",
    "# print(value[2])"
   ]
  },
  {
   "cell_type": "code",
   "execution_count": 139,
   "metadata": {},
   "outputs": [],
   "source": [
    "def graphFunc(featureName):\n",
    "    for feature in newdf.columns:\n",
    "        if(feature == featureName and feature !='Patient ID' and feature !='Class'):\n",
    "            level = ['1', '2', '3', '4', '5', '6', '7','8','9','10']\n",
    "            x = np.arange(len(level))\n",
    "            width = 0.35  # the width of the bars\n",
    "            count = []\n",
    "            stats = feature_dict(feature)\n",
    "            for i in range(1,11):\n",
    "                count.append(stats.get(i))\n",
    "            plt.bar(x, count, align='center', alpha=0.5)\n",
    "            plt.xticks(x, level)\n",
    "            plt.ylabel('Count')\n",
    "            plt.xlabel('Feature Level')\n",
    "            plt.title(feature +' Stats among ')\n"
   ]
  },
  {
   "cell_type": "code",
   "execution_count": 141,
   "metadata": {},
   "outputs": [
    {
     "data": {
      "image/png": "[encoded data removed]",
      "text/plain": [
       "<Figure size 432x288 with 1 Axes>"
      ]
     },
     "metadata": {
      "needs_background": "light"
     },
     "output_type": "display_data"
    }
   ],
   "source": [
    "graphFunc('Uniformity of Cell Shape')"
   ]
  },
  {
   "cell_type": "code",
   "execution_count": 2,
   "metadata": {},
   "outputs": [
    {
     "data": {
      "text/plain": [
       "True"
      ]
     },
     "execution_count": 2,
     "metadata": {},
     "output_type": "execute_result"
    }
   ],
   "source": [
    "isinstance(5,int)\n"
   ]
  },
  {
   "cell_type": "code",
   "execution_count": null,
   "metadata": {},
   "outputs": [],
   "source": []
  }
 ],
 "metadata": {
  "kernelspec": {
   "display_name": "Python 3",
   "language": "python",
   "name": "python3"
  },
  "language_info": {
   "codemirror_mode": {
    "name": "ipython",
    "version": 3
   },
   "file_extension": ".py",
   "mimetype": "text/x-python",
   "name": "python",
   "nbconvert_exporter": "python",
   "pygments_lexer": "ipython3",
   "version": "3.7.1"
  }
 },
 "nbformat": 4,
 "nbformat_minor": 2
}
