{
 "cells": [
  {
   "cell_type": "code",
   "execution_count": 22,
   "metadata": {},
   "outputs": [],
   "source": [
    "import numpy as np"
   ]
  },
  {
   "cell_type": "code",
   "execution_count": 40,
   "metadata": {},
   "outputs": [],
   "source": [
    "class LogisticRegression(object):\n",
    "    \n",
    "    def __init__(self):\n",
    "        self.w\n",
    "    \n",
    "    def fit (self, x, y, rate, epsilon):\n",
    "        i = 0\n",
    "        w = np.zeros((len(x[0]),1))\n",
    "        w_next = np.zeros((len(x[0]),1))\n",
    "        xT = np.transpose(x)\n",
    "        xTx = np.matmul(xT, x)\n",
    "        xTy = np.matmul(xT, y)\n",
    "        while True: \n",
    "            w = w_next\n",
    "            w_next = np.subtract(weight, 2 * rate(i) * np.subtract(np.matmul(xTx, w), xTy))\n",
    "            i = i + 1\n",
    "            if np.linalg.norm(np.subtract(w_next, w), 2) <= epsilon: \n",
    "                break\n",
    "        self.w = w_next\n",
    "    \n",
    "    def predict (x):\n",
    "        return np.matmul(x, self.w)"
   ]
  },
  {
   "cell_type": "code",
   "execution_count": null,
   "metadata": {},
   "outputs": [],
   "source": []
  }
 ],
 "metadata": {
  "kernelspec": {
   "display_name": "Python 3",
   "language": "python",
   "name": "python3"
  },
  "language_info": {
   "codemirror_mode": {
    "name": "ipython",
    "version": 3
   },
   "file_extension": ".py",
   "mimetype": "text/x-python",
   "name": "python",
   "nbconvert_exporter": "python",
   "pygments_lexer": "ipython3",
   "version": "3.7.0"
  }
 },
 "nbformat": 4,
 "nbformat_minor": 2
}
